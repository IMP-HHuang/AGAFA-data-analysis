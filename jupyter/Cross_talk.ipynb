{
 "cells": [
  {
   "cell_type": "markdown",
   "metadata": {},
   "source": [
    "# DSSD Cross-talk"
   ]
  },
  {
   "cell_type": "markdown",
   "metadata": {},
   "source": [
    "<font size=4 face=\"微软雅黑\">\n",
    "\n",
    "## 1.[Influence of the interstrip gap on the response and the efficiency of Double Sided Silicon Strip Detectors](./paper/torresi2013.pdf)\n",
    "\n",
    "   - Introduction\n",
    "       - The ratio between the number of events detected with the full energy and the total number of events will be called in the following  <font color=\"Red\"> efficiency for full energy detection </font>.\n",
    "          - lower than 100%\n",
    "       - front (junction) side: postive signals(normal)\n",
    "       - back (ohmic) side : negative signals(normal)\n",
    "       \n",
    "          <img src=\"./fig/SMD.jpg\" width=\"80%\" height=\"80%\">\n",
    "</font>"
   ]
  },
  {
   "cell_type": "markdown",
   "metadata": {},
   "source": [
    "<font size=4 face=\"微软雅黑\">\n",
    "\n",
    "   - Experimental set-up\n",
    "       - DSSD\n",
    "          - Thick:1000 $\\mu m$(2, irradiated from the front (junction) side)、500$\\mu m$(irradiated from the\n",
    "back (ohmic) side)\n",
    "          - Active area : 50 ×　50$mm^2$ (16　×　16 strips)\n",
    "          - Each strip : 3 mm(wide)、 50 mm(long)\n",
    "          - insulated: Si$O_2$、0.1 mm(wide)、1$\\mu m$(thick)\n",
    "          - metalization: Al、0.3$\\mu m$(thick)\n",
    "          - Full depletion voltage: 200 V\n",
    "          - Beam:$^7Li$、$^{16}O$(100pps)\n",
    "       \n",
    "</font>"
   ]
  },
  {
   "cell_type": "markdown",
   "metadata": {},
   "source": [
    "***<mark style=background-color:yello><font size=5 face=\"微软雅黑\" color=\"Red\" >Beam injected from the junction(front) side</font><mark>***"
   ]
  },
  {
   "cell_type": "markdown",
   "metadata": {},
   "source": [
    "<font size=4 face=\"微软雅黑\">\n",
    "\n",
    "   - Typical energy spectra($^7Li$、14.5MeV)\n",
    "      - The \"continuum\" of events with energy in between the two main peaks. As it will be shown in the following, such events are due to particles whose trajectory crosses the interstrip region and will be named <font color=\"Red\"> interstrip events</font>.\n",
    "      - The presence of anomalous signals with <font color=\"Red\">opposite polarity</font>(i.e. events with \"negative energy\" in the figure) in the front strip spectra. Very few opposite polarity signals, without any correlations with adjacent strips are observed in back strip spectra.\n",
    "      <img src=\"./fig/TES.jpg\" width=\"120%\" height=\"120%\">\n",
    "\n",
    "</font>"
   ]
  },
  {
   "cell_type": "markdown",
   "metadata": {},
   "source": [
    "<font size=4 face=\"微软雅黑\">\n",
    "\n",
    "   - The fraction of events with energy lower than the FEP (both positive and negative polarity signals)with respect to the total number of events for back and front strips and for particles of different energies.($^7Li$、14.5MeV)\n",
    "      - Although the pure geometrical size of the interstrip is the same for front and back strips, the fraction of back interstrip events is systematically larger than one of the front interstrip\n",
    "      - Moreover,such a fraction depends on the energy of the incident particles.\n",
    "      \n",
    "       <img src=\"./fig/FE.jpg\" width=\"100%\" height=\"100%\">\n",
    "\n",
    "   - the fraction of interstrip events (including both front and back interstrips) as a function of the incident energy for the two different bias values and for the two beams.\n",
    "       - Interstrip events are counted as events where it is present a coincidence of signals of any polarity in two adjacent strips.\n",
    "       <img src=\"./fig/FE2.jpg\" width=\"100%\" height=\"100%\">\n",
    "   - conclusion:\n",
    "       - the measured fraction of interstrip events is significantly larger than the one expected from pure geometrical considerations which would be of the order of 6.2% (i.e. 3.1% for each side of the detector).\n",
    "           $$rate = \\frac{d_{interstrip}}{d_{strip}}= \\frac{0.1 \\times 15}{3 \\times 16}=3.125\\%$$\n",
    "       - the number of interstrip events increases with the energy and depends on the applied bias.\n",
    "       -\n",
    "\n",
    "</font>"
   ]
  },
  {
   "cell_type": "markdown",
   "metadata": {},
   "source": [
    "<font size=4 face=\"微软雅黑\">\n",
    "\n",
    "   - Adjacent strip correlations\n",
    "      - Back\n",
    "          - labeled A: particles entering the detector through a strip and giving rise to a full energy signal\n",
    "          - labeled B: The interstrip events (those with energy lower than FEP) are seen as a coincidence between two adjacent strips since the charge generated in the detector is collected by both strips.\n",
    "              - By summing the charge collected by the two adjacent strips in coincidence, one obtains the full energy of the incident particles\n",
    "              - The interstrip events on the back side are characterized by an asymmetric sharing of the charge between the two adjacent strips without any loss of charge.\n",
    "              - Therefore, by summing the two signals, one can correctly reconstruct the full energy.\n",
    "          - labeled C: interstrip events between back strips 8 and 9\n",
    "          - labeled D: interstrip events between back strips 7 and 6.\n",
    "       <img src=\"./fig/CB.jpg\" width=\"100%\" height=\"100%\">\n",
    "      - Front\n",
    "          - labeled A: particles entering the detector through a strip and giving rise to a full energy signal\n",
    "          - <font color=\"Red\">The interstrip region is not a simple straight line joining the two full energy regions A, as observed for the back strips</font>.\n",
    "              - There are two classes of events: \n",
    "                  - Region labeled B: both adjacent strips produce positive signals\n",
    "                  - Regions labeled C: one of the two signals has an anomalous polarity corresponding to \"negative energy\" in the spectrum\n",
    "       <img src=\"./fig/CF.jpg\" width=\"100%\" height=\"100%\">\n",
    "\n",
    "\n",
    "</font>"
   ]
  },
  {
   "cell_type": "markdown",
   "metadata": {},
   "source": [
    "<font size=4 face=\"微软雅黑\">\n",
    "\n",
    "   - Front-side back-side correlations\n",
    "      - front strips 7 and 8 (x-axis) with the corresponding energy deposited into the back strip 8 (y-axis)\n",
    "          - labeled A: particles entering the detector through the front strip 7 or 8 and through the back strip 8 (i.e. full energy on both sides).\n",
    "          - labeled B: all those particles entering the detectors through the strip front 7 or 8 and hitting a back strip different from strip 8\n",
    "          - labeled C: particles that hit back strip 8 and a front strip different than strip 7 or 8\n",
    "          - labeled D: the full energy for front strip 7 or 8 is observed whereas a lower energy for the back is observed: these are back interstrip events.\n",
    "          - labeled F: front interstrip events affect also the back signals; in fact, in the presence of a front interstrip event the signal generated in the back is lower than the full energy.In this case back strip events suffer a sort of \"<font color=\"Red\">energy defect</font>\" due to the fact that the incoming particles are crossing the front interstrip region.\n",
    "       <img src=\"./fig/FB.jpg\" width=\"100%\" height=\"100%\">\n",
    "      - front–back correlation plot is shown for different beam energies and for the two different bias.\n",
    "          - the observed \"energy defect\" ($\\Delta E$ in Fig. 6) on the back, for front interstrip events, decreases with increasing energy of the incoming particle and with the applied bias.\n",
    "       <img src=\"./fig/FBD.jpg\" width=\"140%\" height=\"140%\">\n",
    "      - front–front correlation plot is shown for different beam energies and for the two different bias.\n",
    "          - When the beam energy increases the amplitude of the opposite polarity signals decreases.\n",
    "          - When the bias applied to the detector increases the amplitude of the opposite polarity signals decreases.\n",
    "       <img src=\"./fig/FFD.jpg\" width=\"140%\" height=\"140%\">\n",
    "\n",
    "\n",
    "</font>"
   ]
  },
  {
   "cell_type": "markdown",
   "metadata": {},
   "source": [
    "***<mark style=background-color:yello><font size=5 face=\"微软雅黑\" color=\"Red\" >Beam injected from the ohmic(back) side</font><mark>***"
   ]
  },
  {
   "cell_type": "markdown",
   "metadata": {},
   "source": [
    "<font size=4 face=\"微软雅黑\">\n",
    "\n",
    "   - Adjacent strip correlations\n",
    "      - DSSSD 500 mm thick\n",
    "      - 1 FDV、16.5MeV、$^7Li$\n",
    "      - Back\n",
    "           - when particles are injected from the ohmic side the back interstrip behaves in a way similar to the front interstrip when particles are injected from the junction side showing the presence of opposite polarity signals.\n",
    "       <img src=\"./fig/BCB.jpg\" width=\"100%\" height=\"100%\">\n",
    "      - Front\n",
    "          - the behavior of the front interstrip, when particles are injected from the ohmic side, is similar to the back interstrip when particles are injected from the junction side\n",
    "       <img src=\"./fig/BCF.jpg\" width=\"100%\" height=\"100%\">\n",
    "      - Front-side back-side correlations\n",
    "       <img src=\"./fig/BFB.jpg\" width=\"100%\" height=\"100%\">\n",
    "   - conclusion:\n",
    "        - Probably the difference in behavior between front and back interstrips, when particles enter the detector through the front, is not due (or at least not only due) to the different constructions of back and front sides.\n",
    "        - Opposite polarity signals seem to appear when particles cross the interstrip region, i.e. in front interstrip events when particles enter the detector from the front side and in back interstrip events when particles are injected from the back side.\n",
    "        - Therefore when DSSSDs are used in transparency opposite polarity signals will be probably present in both sides.\n",
    "\n",
    "\n",
    "</font>"
   ]
  },
  {
   "cell_type": "markdown",
   "metadata": {},
   "source": [
    "<font size=4 face=\"微软雅黑\">\n",
    "    \n",
    "   - The presence of opposite polarity signals as well as the \"energy defect\" observed for back signals corresponding to the particles passing through the front interstrip region can be explained in the framework of <font color=\"Red\">the model proposed by Yorkston and collaborators</font>\n",
    "</font>"
   ]
  },
  {
   "cell_type": "markdown",
   "metadata": {},
   "source": [
    "<font size=4 face=\"微软雅黑\">\n",
    "\n",
    "## 2.[I N T E R S T R I P SURFACE EFFECTS IN OXIDE P A S S I V A T E D I O N - I M P L A N T E D SILICON STRIP DETECTORS](./paper/DSSD.pdf)\n",
    "\n",
    "   - Introduction\n",
    "       - PSD\n",
    "       - full depletion voltage of - 4 0 V\n",
    "       - Thick of Al strip : 0.6 $\\mu m$\n",
    "       \n",
    "          <img src=\"./fig/PSD.jpg\" width=\"100%\" height=\"100%\">\n",
    "</font>"
   ]
  },
  {
   "cell_type": "markdown",
   "metadata": {},
   "source": [
    "<font size=4 face=\"微软雅黑\">\n",
    "\n",
    "   - Energy spectra($\\alpha$、3 MeV)\n",
    "      - Fig. 2a shows a typical energy spectrum of the alpha particles when the beam illuminated only one strip, i.e., no interstrip spacing was illuminated.\n",
    "      - The energy resolution was beam-limited at 40 keV.\n",
    "      - Fig. 2b shows a typical spectrum when the whole interstrip gap was illuminated.\n",
    "      - The most intense peak in fig. 2b is due to alphas entering the active region through the aluminium strip.\n",
    "      - The upper energy peak in fig. 2b is produced by alpha particles entering the detector via the thinner $SiO_2$ layer between Al strips.\n",
    "      - The lower peak: anomalous-polarity pulses coincident normal-polarity pulses\n",
    "          <img src=\"./fig/EE.jpg\" width=\"50%\" height=\"50%\">\n",
    "\n",
    "</font>"
   ]
  },
  {
   "cell_type": "markdown",
   "metadata": {},
   "source": [
    "<font size=4 face=\"微软雅黑\">\n",
    "\n",
    "   - Scanning the beam between two neighbouring strips\n",
    "      - The approximate position of the sharp edge of the beam for each spectrum is as shown in fig. 1.\n",
    "      - This suggests that an explanation of their existence may be obtained from a consideration of the geometrical details of the detector.\n",
    "          <img src=\"./fig/SE.jpg\" width=\"50%\" height=\"50%\">\n",
    "\n",
    "</font>"
   ]
  },
  {
   "cell_type": "markdown",
   "metadata": {},
   "source": [
    "<font size=4 face=\"微软雅黑\">\n",
    "\n",
    "   - typical anomalous-polarity pulse height spectrum from one strip.\n",
    "      - these anomalous-polarity pulses always occurred in coincidence with a normal-polarity pulse in the adjacent strip.\n",
    "      - This suggests that an explanation of their existence may be obtained from a consideration of the geometrical details of the detector.\n",
    "      - these coincident normal-polarity pulses were smaller than a full energy pulse and contributed to the lower energy satellite peak in fig. 2b.\n",
    "      - <font color=\"Red\"> exhibits a strong lower energy peak</font>.\n",
    "          - It is the pulses contributing to this peak which are in coincidence with the anomalous-polarity pulses from the adjacent strip.\n",
    "      - these coincident pulses of opposite polarity originate from the region between the strips and more specifically from the volume below the central region where there is no $p^+$ implantation.\n",
    "          <img src=\"./fig/ANP.jpg\" width=\"50%\" height=\"50%\">\n",
    "\n",
    "</font>"
   ]
  },
  {
   "cell_type": "markdown",
   "metadata": {},
   "source": [
    "<font size=4 face=\"微软雅黑\">\n",
    "\n",
    "   - two-dimensional plot of the anomalous-polarity pulse amplitude signal from one strip against the coincident normal-polarity pulse amplitude from its neighbour.\n",
    "      - the reduction below the full-energy charge for a normal-polarity pulse is about equal to the charge of the coincident anomalous-polarity pulse\n",
    "      - <font color=\"Red\"> This is not then charge sharing but could be due to the imposition of equal anomalous-polarity charges on both strips simultaneously, added to the normal collected charge.</font>\n",
    "          <img src=\"./fig/TD.jpg\" width=\"80%\" height=\"80%\">\n",
    "\n",
    "</font>"
   ]
  },
  {
   "cell_type": "markdown",
   "metadata": {},
   "source": [
    "***<mark style=background-color:yello><font size=5 face=\"微软雅黑\" color=\"Red\" >Proposed model</font><mark>***"
   ]
  },
  {
   "cell_type": "markdown",
   "metadata": {},
   "source": [
    "<font size=4 face=\"微软雅黑\">\n",
    "\n",
    "   - Between the strips is a highly insulating surface layer of $SiO_2$, and the depleted junction extends underneath this layer.\n",
    "   - Leakage (and also ionisation) causes current to flow across the junction, and a steady flow of holes arrives at the strip side, to be collected by the strips.\n",
    "   - Because the interstrip gap is highly insulating, there can be no net flow of current to this area, so a positive charge must be built up at the surface of the insulating layer, sufficient (in the equilibrium state) to repel further holes from arriving in the interstrip gap.\n",
    "   - This charge is distributed symmetrically about the midpoint of the gap (point X in fig. 6).\n",
    "   - The assumption is that this positive charge is sufficient to cause a local field reversal so that the potential, measured across the junction from X, falls locally to a minimum value between the strips, close below the surface, before the normal potential rise across the junction then commences.\n",
    "   - Between the strips there will be a saddle point in the potential map, as sketched in fig. 6.\n",
    "   <img src=\"./fig/P.jpg\" width=\"50%\" height=\"50%\">\n",
    "    \n",
    "\n",
    "</font>"
   ]
  },
  {
   "cell_type": "markdown",
   "metadata": {},
   "source": [
    "<font size=4 face=\"微软雅黑\">\n",
    "\n",
    "   - Hole sharing\n",
    "       - One effect of the hump in the potential between the strips is that when hole-electron pairs are produced by an ionising particle in the interstrip gap, the holes are driven towards the nearest strip by the field gradient, depending on which side of the saddle they were created.\n",
    "           - Therefore, there will be a strong tendency for the holes to be collected on one or other of the strips, rather than divided between them.\n",
    "       - Only from a very restricted band of positions, right on the interstrip centre, will holes from a track be divided between the strips,as suggested in fig.7a(A/H in Fig.8).\n",
    "\n",
    "</font>"
   ]
  },
  {
   "cell_type": "markdown",
   "metadata": {},
   "source": [
    "   <img src=\"./fig/Q.jpg\" width=\"50%\" height=\"50%\">"
   ]
  },
  {
   "cell_type": "markdown",
   "metadata": {},
   "source": [
    "<font size=4 face=\"微软雅黑\">\n",
    "\n",
    "   - Electron trapping\n",
    "       - When a particle track occurs near the centre of the interstrip gap, the electrons will be pulled towards the potential hump at X, rather than towards the anode, if they were created on the reversed-field side of the potential saddle point.\n",
    "           - This will be particularly likely for electrons in the tracks of short range highly ionising particles such as 3 MeV alphas (range approximately 10 lam).\n",
    "       - For more penetrating particles, or for tracks which occur near one strip or the other, some of the electrons will be pulled towards the anode(D/E in Fig.8).\n",
    "       - But the model implies that over a finite area around X, all the electrons created by an alpha track lie in this anomalous reversefield region and all move to X, as shown in fig. 7b(D-E in Fig.8).\n",
    "</font>"
   ]
  },
  {
   "cell_type": "markdown",
   "metadata": {},
   "source": [
    "   <img src=\"./fig/CE.jpg\" width=\"50%\" height=\"50%\">"
   ]
  }
 ],
 "metadata": {
  "kernelspec": {
   "display_name": "ROOT C++",
   "language": "c++",
   "name": "root"
  },
  "language_info": {
   "codemirror_mode": "text/x-c++src",
   "file_extension": ".C",
   "mimetype": " text/x-c++src",
   "name": "c++"
  }
 },
 "nbformat": 4,
 "nbformat_minor": 2
}
